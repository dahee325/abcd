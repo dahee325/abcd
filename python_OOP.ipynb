{
 "cells": [
  {
   "cell_type": "code",
   "execution_count": 1,
   "id": "6ce4a07e-fe65-4299-ae31-b031ce864f7b",
   "metadata": {},
   "outputs": [],
   "source": [
    "import pandas as pd"
   ]
  },
  {
   "cell_type": "code",
   "execution_count": 2,
   "id": "47eef392-e9aa-4735-b7f8-9beb3f6db7c1",
   "metadata": {},
   "outputs": [],
   "source": [
    "import random\n",
    "\n",
    "class PokeMon:\n",
    "    def __init__(self, name, level = 5):\n",
    "        self.name = name\n",
    "        self.level = level\n",
    "        self.hp = level * 10\n",
    "\n",
    "    def attack(self, opponent):\n",
    "        damage = self.level*random.randint(1, 3)\n",
    "        print(f'{self.name}이 {opponent.name}를 {damage}만큼 공격했습니다!!')\n",
    "        opponent.hp -= damage\n",
    "\n",
    "    def is_knock_out(self):\n",
    "        return self.hp <= 0\n",
    "\n",
    "    def status(self):\n",
    "        print(f'{self.name} - 남은 체력 : {self.hp}')"
   ]
  },
  {
   "cell_type": "code",
   "execution_count": 3,
   "id": "a9f1692d-a73f-49db-940a-45a36014ef07",
   "metadata": {},
   "outputs": [],
   "source": [
    "kobugi = PokeMon(\"꼬부기\")\n",
    "pairi = PokeMon(\"파이리\")"
   ]
  },
  {
   "cell_type": "code",
   "execution_count": 4,
   "id": "480e507a-b0ee-42da-aeaf-aeb06605b27f",
   "metadata": {},
   "outputs": [
    {
     "name": "stdout",
     "output_type": "stream",
     "text": [
      "배틀시작!\n",
      "꼬부기이 파이리를 10만큼 공격했습니다!!\n",
      "파이리이 꼬부기를 10만큼 공격했습니다!!\n",
      "꼬부기 - 남은 체력 : 40\n",
      "파이리 - 남은 체력 : 40\n",
      "-------------------------------------------\n",
      "꼬부기이 파이리를 10만큼 공격했습니다!!\n",
      "파이리이 꼬부기를 10만큼 공격했습니다!!\n",
      "꼬부기 - 남은 체력 : 30\n",
      "파이리 - 남은 체력 : 30\n",
      "-------------------------------------------\n",
      "꼬부기이 파이리를 10만큼 공격했습니다!!\n",
      "파이리이 꼬부기를 10만큼 공격했습니다!!\n",
      "꼬부기 - 남은 체력 : 20\n",
      "파이리 - 남은 체력 : 20\n",
      "-------------------------------------------\n",
      "꼬부기이 파이리를 5만큼 공격했습니다!!\n",
      "파이리이 꼬부기를 15만큼 공격했습니다!!\n",
      "꼬부기 - 남은 체력 : 5\n",
      "파이리 - 남은 체력 : 15\n",
      "-------------------------------------------\n",
      "꼬부기이 파이리를 10만큼 공격했습니다!!\n",
      "파이리이 꼬부기를 5만큼 공격했습니다!!\n",
      "꼬부기 - 남은 체력 : 0\n",
      "파이리 - 남은 체력 : 5\n",
      "-------------------------------------------\n",
      "꼬부기이 파이리를 5만큼 공격했습니다!!\n",
      "파이리가 쓰러졌습니다!! 꼬부기승리!!\n"
     ]
    }
   ],
   "source": [
    "print('배틀시작!')\n",
    "\n",
    "while True:\n",
    "    kobugi.attack(pairi)\n",
    "    if kobugi.is_knock_out():\n",
    "        print(f'{pairi.name}가 쓰러졌습니다!! {kobugi.name}승리!!')\n",
    "        break\n",
    "\n",
    "    pairi.attack(kobugi)\n",
    "    if pairi.is_knock_out():\n",
    "        print(f'{kobugi.name}가 쓰러졌습니다!! {pairi.name}승리!!')\n",
    "        break\n",
    "\n",
    "    kobugi.status()\n",
    "    pairi.status()\n",
    "    print('-------------------------------------------')"
   ]
  },
  {
   "cell_type": "code",
   "execution_count": null,
   "id": "9fbd2554-fe26-49b2-85ba-31d5c659dd8f",
   "metadata": {},
   "outputs": [],
   "source": []
  }
 ],
 "metadata": {
  "kernelspec": {
   "display_name": "Python 3 (ipykernel)",
   "language": "python",
   "name": "python3"
  },
  "language_info": {
   "codemirror_mode": {
    "name": "ipython",
    "version": 3
   },
   "file_extension": ".py",
   "mimetype": "text/x-python",
   "name": "python",
   "nbconvert_exporter": "python",
   "pygments_lexer": "ipython3",
   "version": "3.13.2"
  }
 },
 "nbformat": 4,
 "nbformat_minor": 5
}
